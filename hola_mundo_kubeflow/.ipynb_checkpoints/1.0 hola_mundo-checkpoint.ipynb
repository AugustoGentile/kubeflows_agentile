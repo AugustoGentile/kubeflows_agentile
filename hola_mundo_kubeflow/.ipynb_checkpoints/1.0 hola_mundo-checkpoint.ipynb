{
 "cells": [
  {
   "cell_type": "markdown",
   "id": "7feb5dad",
   "metadata": {},
   "source": [
    "<span style=\"color:red\">**Aclaración: El siguiente código fue hecho para funcionar sobre Vertex, la plataforma de ML de GCP.** </span>"
   ]
  },
  {
   "cell_type": "code",
   "execution_count": null,
   "id": "b2499927",
   "metadata": {
    "scrolled": true
   },
   "outputs": [],
   "source": [
    "from kfp import dsl\n",
    "from kfp.v2 import compiler\n",
    "from kfp.v2.dsl import component\n",
    "import kfp \n",
    "from datetime import datetime\n",
    "import google.cloud "
   ]
  },
  {
   "cell_type": "code",
   "execution_count": null,
   "id": "e31d13af",
   "metadata": {},
   "outputs": [],
   "source": [
    "#obtengo el proyecto\n",
    "shell_output=!gcloud config get-value project\n",
    "PROJECT_ID=shell_output[0]\n",
    "\n",
    "#seteo la región\n",
    "REGION=\"us-central1\"\n",
    "\n",
    "#seteo el bucket en donde se guardará toda la metadata de cada ejecución\n",
    "BUCKET_NAME= \"gs://hola_mundo_bucket\"\n",
    "PIPELINE_ROOT = f\"{BUCKET_NAME}/pipeline_root/\"\n",
    "\n",
    "TIMESTAMP = datetime.now().strftime(\"%Y%m%d%H%M%S\")\n",
    "DISPLAY_NAME = 'mi_pipeline_{}'.format(TIMESTAMP)\n"
   ]
  },
  {
   "cell_type": "markdown",
   "id": "4356258d",
   "metadata": {},
   "source": [
    "#### Las siguientes 3 celdas son para la creación de componentes. \n",
    "#### Un poquito de contexto antes de seguir: \n",
    "* Un componente es análogo a una función de Python. ***@component*** es el decorador del framework de kubeflow.\n",
    "* Al estar basado en kubernetes, kubeflow nos obliga a especificar en dónde a correr nuestro componente. ***python:3.9*** es una imagen pública pero también podemos armar una privada y almacenarla en una registro de contenedores."
   ]
  },
  {
   "cell_type": "code",
   "execution_count": null,
   "id": "84603b76",
   "metadata": {},
   "outputs": [],
   "source": [
    "@component(base_image='python:3.9')\n",
    "def componente_Hola()->str:\n",
    "    return 'Hola'   "
   ]
  },
  {
   "cell_type": "code",
   "execution_count": null,
   "id": "467b01b9",
   "metadata": {},
   "outputs": [],
   "source": [
    "@component(base_image='python:3.9')\n",
    "def componente_Mundo()->str:\n",
    "    return ' Mundo'  "
   ]
  },
  {
   "cell_type": "code",
   "execution_count": null,
   "id": "6ebf677f",
   "metadata": {},
   "outputs": [],
   "source": [
    "@component(base_image='python:3.9')\n",
    "def union_de_componentes(val1: str, val2: str) -> str:\n",
    "    return val1 + val2 + \"!\" "
   ]
  },
  {
   "cell_type": "markdown",
   "id": "d1ef6923",
   "metadata": {},
   "source": [
    "#### Una vez definidos los componetes podemos armar nuestro pipeline, que no es más que un conjunto de componentes en un órden específico.\n",
    "* ***@dsl.pipeline*** es el decorador para especificar que lo que sigue es un pipeline.\n",
    "* como se puede ver a continuación, la salida de un componente puede ser la entrada del siguiente."
   ]
  },
  {
   "cell_type": "code",
   "execution_count": null,
   "id": "54c01d60",
   "metadata": {},
   "outputs": [],
   "source": [
    "@dsl.pipeline(\n",
    "name=\"pipeline-hola-mundo\",\n",
    "pipeline_root=PIPELINE_ROOT\n",
    ")\n",
    "def pipeline(\n",
    "    project: str = PROJECT_ID,\n",
    "    region: str = REGION, \n",
    "    display_name: str = DISPLAY_NAME,\n",
    "):\n",
    "    hola = componente_Hola()\n",
    "    mundo = componente_Mundo()\n",
    "    hola_mundo = union_de_componentes(hola.output, mundo.output)\n",
    "    "
   ]
  },
  {
   "cell_type": "markdown",
   "id": "1410fe81",
   "metadata": {},
   "source": [
    "#### Con el pipeline definido podemos compilarlo para que quede empaquetado en un archivo .json"
   ]
  },
  {
   "cell_type": "code",
   "execution_count": null,
   "id": "925c8029",
   "metadata": {
    "scrolled": true
   },
   "outputs": [],
   "source": [
    "compiler.Compiler().compile(pipeline_func=pipeline, package_path='hola_mundo.json')"
   ]
  }
 ],
 "metadata": {
  "kernelspec": {
   "display_name": "kfp_test_env",
   "language": "python",
   "name": "kfp_test_env"
  },
  "language_info": {
   "codemirror_mode": {
    "name": "ipython",
    "version": 3
   },
   "file_extension": ".py",
   "mimetype": "text/x-python",
   "name": "python",
   "nbconvert_exporter": "python",
   "pygments_lexer": "ipython3",
   "version": "3.10.4"
  }
 },
 "nbformat": 4,
 "nbformat_minor": 5
}
